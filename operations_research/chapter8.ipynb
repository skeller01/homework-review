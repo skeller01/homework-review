{
 "cells": [
  {
   "cell_type": "markdown",
   "metadata": {},
   "source": [
    "#### Chapter 8 - Integer Programming The Transportation Algorithm "
   ]
  },
  {
   "cell_type": "markdown",
   "metadata": {},
   "source": [
    "8.11 A regional airline can buy its jet fuelt from any one of three vendors. The airline's needs for the upcoming month at each of the three airports it serves are 100,000 gal at airport 1, 180,000 gal at airport 2, and 350,000 gal at airport 3. Each vendor can supply fuel to each airport at a price (in cents per gallon) given by the following schedule. \n",
    "\n",
    "Airport 1, Airport 2, Airport 3, \n",
    "Vendor 1, 92, 89, 90, \n",
    "vendor 2, 91, 91, 95, \n",
    "vendor 3, 87, 90, 92 \n",
    "\n",
    "Each vendor is limited in the total number of gallons it can provide during any one month. These capacities are 320,000 gal for vendor 1, 270,000 gal for vendor 2 and 190,000 gal for vendor 3. Determine a purchasing policy that will supply the airlines's requirements at each airport at minimum total cost. "
   ]
  },
  {
   "cell_type": "code",
   "execution_count": 5,
   "metadata": {},
   "outputs": [
    {
     "name": "stdout",
     "output_type": "stream",
     "text": [
      "Status: Optimal\n",
      "Optimal Solution:\n",
      "Buy 320000.0 gallons from Vendor 1 to Airport 3\n",
      "Buy 120000.0 gallons from Vendor 2 to Airport 2\n",
      "Buy 100000.0 gallons from Vendor 3 to Airport 1\n",
      "Buy 60000.0 gallons from Vendor 3 to Airport 2\n",
      "Buy 30000.0 gallons from Vendor 3 to Airport 3\n",
      "Total Fuel Cost: $565800.00\n"
     ]
    }
   ],
   "source": [
    "from pulp import *\n",
    "\n",
    "# Define airports and vendors\n",
    "airports = [\"Airport 1\", \"Airport 2\", \"Airport 3\"]\n",
    "vendors = [\"Vendor 1\", \"Vendor 2\", \"Vendor 3\"]\n",
    "\n",
    "# Define fuel needs for each airport\n",
    "demand = {\"Airport 1\": 100000, \"Airport 2\": 180000, \"Airport 3\": 350000}\n",
    "\n",
    "# Define fuel prices from each vendor to each airport\n",
    "prices = {\n",
    "    \"Vendor 1\": {\"Airport 1\": 92, \"Airport 2\": 89, \"Airport 3\": 90},\n",
    "    \"Vendor 2\": {\"Airport 1\": 91, \"Airport 2\": 91, \"Airport 3\": 95},\n",
    "    \"Vendor 3\": {\"Airport 1\": 87, \"Airport 2\": 90, \"Airport 3\": 92}\n",
    "}\n",
    "\n",
    "# Define vendor capacities\n",
    "capacities = {\"Vendor 1\": 320000, \"Vendor 2\": 270000, \"Vendor 3\": 190000}\n",
    "\n",
    "# Create a linear programming model\n",
    "model = LpProblem(\"Minimize Fuel Cost\", LpMinimize)\n",
    "\n",
    "# Define variables for the amount of fuel purchased from each vendor to each airport\n",
    "fuel_purchase = LpVariable.dicts(\"Fuel_Purchase\", [(v, a) for v in vendors for a in airports], lowBound=0)\n",
    "\n",
    "# Set objective function: minimize total fuel cost\n",
    "model += lpSum([prices[v][a] * fuel_purchase[(v, a)] for v in vendors for a in airports]), \"Total Fuel Cost\"\n",
    "\n",
    "# Add constraints:\n",
    "# 1. Meet demand at each airport\n",
    "for a in airports:\n",
    "    model += lpSum([fuel_purchase[(v, a)] for v in vendors]) == demand[a], f\"Demand at {a}\"\n",
    "\n",
    "# 2. Respect vendor capacity\n",
    "for v in vendors:\n",
    "    model += lpSum([fuel_purchase[(v, a)] for a in airports]) <= capacities[v], f\"Capacity of {v}\"\n",
    "\n",
    "# Solve the model\n",
    "model.solve()\n",
    "\n",
    "# Print the status and solution\n",
    "print(\"Status:\", LpStatus[model.status])\n",
    "print(\"Optimal Solution:\")\n",
    "for v in vendors:\n",
    "    for a in airports:\n",
    "        if fuel_purchase[(v, a)].varValue > 0:\n",
    "            print(f\"Buy {fuel_purchase[(v, a)].varValue} gallons from {v} to {a}\")\n",
    "\n",
    "# Calculate and print total cost\n",
    "total_cost = value(model.objective)\n",
    "print(f\"Total Fuel Cost: ${total_cost / 100:.2f}\")"
   ]
  },
  {
   "cell_type": "markdown",
   "metadata": {},
   "source": [
    "8.13 Two drug companies have inventories of 1.1 and .9 million doses of a particular flu vaccine and an epidemic of the flu seems imminent in three cities. Since the flu could be fatal to senior citizens it is imperative they be vaccinated first; others will be vaccinated on a first-come first served basis while the vaccine supply lasts. The amounts of vaccine (in millions of doses) each city estimates it could administer are as follows: \n",
    "City 1, City 2, City 3, \n",
    "To elders, .325, .260, .195, \n",
    "to others, .750, .8, .650 \n",
    "\n",
    "The shipping costs (in cents per dose) between drug companies and cities are as follows: \n",
    "\n",
    "City 1, City 2, City 3, \n",
    "Company 1, 3, 3, 6, \n",
    "Company 2, 1, 4, 7 \n",
    "\n",
    "Determine a minimum-cost shipping schedule which will provide each city with at least enough vaccine to care for its senior citizens. "
   ]
  },
  {
   "cell_type": "code",
   "execution_count": 6,
   "metadata": {},
   "outputs": [
    {
     "name": "stdout",
     "output_type": "stream",
     "text": [
      "Status: Optimal\n",
      "Optimal Solution:\n",
      "Ship 0.260 million doses from Company 1 to City 2\n",
      "Ship 0.195 million doses from Company 1 to City 3\n",
      "Ship 0.325 million doses from Company 2 to City 1\n",
      "Total Shipping Cost: $0.02 million\n"
     ]
    }
   ],
   "source": [
    "from pulp import *\n",
    "\n",
    "# Define cities and companies\n",
    "cities = [\"City 1\", \"City 2\", \"City 3\"]\n",
    "companies = [\"Company 1\", \"Company 2\"]\n",
    "\n",
    "# Define vaccine needs for each city (in millions of doses)\n",
    "demand_elders = {\"City 1\": 0.325, \"City 2\": 0.260, \"City 3\": 0.195}\n",
    "demand_others = {\"City 1\": 0.750, \"City 2\": 0.800, \"City 3\": 0.650}\n",
    "\n",
    "# Define shipping costs (in cents per dose)\n",
    "shipping_costs = {\n",
    "    \"Company 1\": {\"City 1\": 3, \"City 2\": 3, \"City 3\": 6},\n",
    "    \"Company 2\": {\"City 1\": 1, \"City 2\": 4, \"City 3\": 7}\n",
    "}\n",
    "\n",
    "# Define company inventories (in millions of doses)\n",
    "inventories = {\"Company 1\": 1.1, \"Company 2\": 0.9}\n",
    "\n",
    "# Create a linear programming model\n",
    "model = LpProblem(\"Minimize Shipping Cost\", LpMinimize)\n",
    "\n",
    "# Define variables for the amount of vaccine shipped from each company to each city\n",
    "shipment = LpVariable.dicts(\"Shipment\", [(c, ci) for c in companies for ci in cities], lowBound=0)\n",
    "\n",
    "# Set objective function: minimize total shipping cost\n",
    "model += lpSum([shipping_costs[c][ci] * shipment[(c, ci)] for c in companies for ci in cities]), \"Total Shipping Cost\"\n",
    "\n",
    "# Add constraints:\n",
    "# 1. Meet elder demand at each city\n",
    "for ci in cities:\n",
    "    model += lpSum([shipment[(c, ci)] for c in companies]) >= demand_elders[ci], f\"Elder Demand at {ci}\"\n",
    "\n",
    "# 2. Respect company inventory\n",
    "for c in companies:\n",
    "    model += lpSum([shipment[(c, ci)] for ci in cities]) <= inventories[c], f\"Inventory of {c}\"\n",
    "\n",
    "# Solve the model\n",
    "model.solve()\n",
    "\n",
    "# Print the status and solution\n",
    "print(\"Status:\", LpStatus[model.status])\n",
    "print(\"Optimal Solution:\")\n",
    "for c in companies:\n",
    "    for ci in cities:\n",
    "        if shipment[(c, ci)].varValue > 0:\n",
    "            print(f\"Ship {shipment[(c, ci)].varValue:.3f} million doses from {c} to {ci}\")\n",
    "\n",
    "# Calculate and print total cost\n",
    "total_cost = value(model.objective)\n",
    "print(f\"Total Shipping Cost: ${total_cost / 100:.2f} million\")"
   ]
  }
 ],
 "metadata": {
  "kernelspec": {
   "display_name": ".venv",
   "language": "python",
   "name": "python3"
  },
  "language_info": {
   "codemirror_mode": {
    "name": "ipython",
    "version": 3
   },
   "file_extension": ".py",
   "mimetype": "text/x-python",
   "name": "python",
   "nbconvert_exporter": "python",
   "pygments_lexer": "ipython3",
   "version": "3.10.8"
  }
 },
 "nbformat": 4,
 "nbformat_minor": 2
}
