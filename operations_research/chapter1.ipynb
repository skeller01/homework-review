{
 "cells": [
  {
   "cell_type": "markdown",
   "metadata": {},
   "source": [
    "#### Schaum's Outlines Operations Research - Second Edition \n",
    "Chapter 1: Mathematical Programming "
   ]
  },
  {
   "cell_type": "code",
   "execution_count": 5,
   "metadata": {},
   "outputs": [],
   "source": [
    "#import libraries \n",
    "import pandas as pd\n",
    "\n",
    "# Import the necessary libraries\n",
    "from pulp import *"
   ]
  },
  {
   "cell_type": "markdown",
   "metadata": {},
   "source": [
    "1.16 Fay Klein had developed two types of handcrafted, adult games that she sells to department stores throughout the country. Although the demand for these games exceeds her capacity to produce them. Ms Klein continues to work alone and to limit her workweek to 50h Game 1 takes 3.5 hours to produce and brings a profit of 28 dollar, while game 2 requires 4 hour to complete and brings a profit of 31 dollars. How many games of each type should Ms Klein produce weekly if her objective is to maximize total profit. "
   ]
  },
  {
   "cell_type": "code",
   "execution_count": 6,
   "metadata": {},
   "outputs": [
    {
     "name": "stdout",
     "output_type": "stream",
     "text": [
      "Status: Optimal\n",
      "\n",
      "Optimal Solution:\n",
      "Game 1: 12.0\n",
      "Game 2: 2.0\n",
      "\n",
      "Total Profit: 398.0\n"
     ]
    }
   ],
   "source": [
    "\n",
    "\n",
    "# Create a linear programming model\n",
    "model = LpProblem(\"Game Production\", LpMaximize)\n",
    "\n",
    "# Define the decision variables\n",
    "games1 = LpVariable(\"Game 1\", lowBound=0, cat='Integer')\n",
    "games2 = LpVariable(\"Game 2\", lowBound=0, cat='Integer')\n",
    "\n",
    "# Define the objective function\n",
    "model += 28 * games1 + 31 * games2, \"Total Profit\"\n",
    "\n",
    "# Define the constraints\n",
    "model += 3.5 * games1 + 4 * games2 <= 50, \"Production_Time\"\n",
    "\n",
    "# Solve the model\n",
    "model.solve()\n",
    "\n",
    "# Print the results\n",
    "print(\"Status:\", LpStatus[model.status])\n",
    "\n",
    "print(\"\\nOptimal Solution:\")\n",
    "print(\"Game 1:\", games1.varValue)\n",
    "print(\"Game 2:\", games2.varValue)\n",
    "\n",
    "print(\"\\nTotal Profit:\", value(model.objective))"
   ]
  },
  {
   "cell_type": "markdown",
   "metadata": {},
   "source": [
    "1.17 A pet store has determined that each hamster should receive at least 70 units of protein, 100 units of carbohydrates and 20 units of fat daily. If the store carries the six types of feed shown in Table 1-3, what blend of feeds satisifies the requirements at minimum cost to the store? Table 1-3: \n",
    "\n",
    "Feed, Protein(units/oz), Carbohydrates(unit/oz), Fat(units/oz), Cost(cents per oz), \n",
    "A, 20, 50, 4, 2, \n",
    "B, 30, 30, 9, 3, \n",
    "C, 40, 20, 11,5, \n",
    "D, 40, 25, 10, 6, \n",
    "E, 45, 50, 9, 8, \n",
    "F, 30, 20, 10, 8 "
   ]
  },
  {
   "cell_type": "markdown",
   "metadata": {},
   "source": [
    "* **Objective function:**\n",
    "   - Minimize: `Cost = 2 * feed_A + 3 * feed_B + 5 * feed_C + 6 * feed_D + 8 * feed_E + 8 * feed_F`\n",
    "* **Constraints:**\n",
    "   - `20 * feed_A + 30 * feed_B + 40 * feed_C + 40 * feed_D + 45 * feed_E + 30 * feed_F >= 70` (Protein)\n",
    "   - `50 * feed_A + 30 * feed_B + 20 * feed_C + 25 * feed_D + 50 * feed_E + 20 * feed_F >= 100` (Carbohydrates)\n",
    "   - `4 * feed_A + 9 * feed_B + 11 * feed_C + 10 * feed_D + 9 * feed_E + 10 * feed_F >= 20` (Fat)\n",
    "* **Variables:**\n",
    "   - `feed_A`, `feed_B`, ..., `feed_F` are non-negative real numbers."
   ]
  },
  {
   "cell_type": "code",
   "execution_count": 7,
   "metadata": {},
   "outputs": [
    {
     "name": "stdout",
     "output_type": "stream",
     "text": [
      "Status: Optimal\n",
      "\n",
      "Optimal Solution:\n",
      "Feed A: 0.90909091\n",
      "Feed B: 1.8181818\n",
      "Feed C: 0.0\n",
      "Feed D: 0.0\n",
      "Feed E: 0.0\n",
      "Feed F: 0.0\n",
      "\n",
      "Total Cost: 7.27272722 cents\n"
     ]
    }
   ],
   "source": [
    "# Define the problem\n",
    "model = LpProblem(\"Pet Feed Blending\", LpMinimize)\n",
    "\n",
    "# Define the decision variables\n",
    "feed_A = LpVariable(\"Feed A\", lowBound=0)\n",
    "feed_B = LpVariable(\"Feed B\", lowBound=0)\n",
    "feed_C = LpVariable(\"Feed C\", lowBound=0)\n",
    "feed_D = LpVariable(\"Feed D\", lowBound=0)\n",
    "feed_E = LpVariable(\"Feed E\", lowBound=0)\n",
    "feed_F = LpVariable(\"Feed F\", lowBound=0)\n",
    "\n",
    "# Define the objective function (minimize cost)\n",
    "model += 2 * feed_A + 3 * feed_B + 5 * feed_C + 6 * feed_D + 8 * feed_E + 8 * feed_F, \"Total Cost\"\n",
    "\n",
    "# Define the constraints (nutrient requirements)\n",
    "model += 20 * feed_A + 30 * feed_B + 40 * feed_C + 40 * feed_D + 45 * feed_E + 30 * feed_F >= 70, \"Protein\"\n",
    "model += 50 * feed_A + 30 * feed_B + 20 * feed_C + 25 * feed_D + 50 * feed_E + 20 * feed_F >= 100, \"Carbohydrates\"\n",
    "model += 4 * feed_A + 9 * feed_B + 11 * feed_C + 10 * feed_D + 9 * feed_E + 10 * feed_F >= 20, \"Fat\"\n",
    "\n",
    "# Solve the model\n",
    "model.solve()\n",
    "\n",
    "# Print the results\n",
    "print(\"Status:\", LpStatus[model.status])\n",
    "\n",
    "print(\"\\nOptimal Solution:\")\n",
    "print(\"Feed A:\", feed_A.varValue)\n",
    "print(\"Feed B:\", feed_B.varValue)\n",
    "print(\"Feed C:\", feed_C.varValue)\n",
    "print(\"Feed D:\", feed_D.varValue)\n",
    "print(\"Feed E:\", feed_E.varValue)\n",
    "print(\"Feed F:\", feed_F.varValue)\n",
    "\n",
    "print(\"\\nTotal Cost:\", value(model.objective), \"cents\")"
   ]
  },
  {
   "cell_type": "markdown",
   "metadata": {},
   "source": [
    "1.24 Recreational Motors manufactures golf carts and snowmobile at its three plants. Plant A produces 40 golf carts and 35 snowmobiles daily; plant B produces 65 golf carts daily, but no snowmobiles; plant C produces 53 snowmobiles daily but no golf carts. The cost operating plans A, B, and C are respectively 210K, 190K, and 182K per day. How many days (including Sundays and holidays) should each plant operate during September to fulfill a production schedule of 1500 golf carts ad 1100 snowmobiles at minimum cost? Assume that labor contracts require that once a plant is opened, workers must be paid for the entire day. "
   ]
  },
  {
   "cell_type": "markdown",
   "metadata": {},
   "source": [
    "* **Objective function:**\n",
    "   - Minimize: `Cost = 2 * feed_A + 3 * feed_B + 5 * feed_C + 6 * feed_D + 8 * feed_E + 8 * feed_F`\n",
    "* **Constraints:**\n",
    "   - `20 * feed_A + 30 * feed_B + 40 * feed_C + 40 * feed_D + 45 * feed_E + 30 * feed_F >= 70` (Protein)\n",
    "   - `50 * feed_A + 30 * feed_B + 20 * feed_C + 25 * feed_D + 50 * feed_E + 20 * feed_F >= 100` (Carbohydrates)\n",
    "   - `4 * feed_A + 9 * feed_B + 11 * feed_C + 10 * feed_D + 9 * feed_E + 10 * feed_F >= 20` (Fat)\n",
    "* **Variables:**\n",
    "   - `feed_A`, `feed_B`, ..., `feed_F` are non-negative real numbers."
   ]
  },
  {
   "cell_type": "code",
   "execution_count": 8,
   "metadata": {},
   "outputs": [
    {
     "name": "stdout",
     "output_type": "stream",
     "text": [
      "Status: Optimal\n",
      "\n",
      "Optimal Solution:\n",
      "Plant A: 30.0 days\n",
      "Plant B: 5.0 days\n",
      "Plant C: 1.0 days\n",
      "\n",
      "Total Cost: 7432.0 thousand dollars\n"
     ]
    }
   ],
   "source": [
    "# Define the problem\n",
    "model = LpProblem(\"Golf Cart and Snowmobile Production\", LpMinimize)\n",
    "\n",
    "# Define the decision variables\n",
    "days_A = LpVariable(\"Days Plant A\", lowBound=0, cat='Integer')\n",
    "days_B = LpVariable(\"Days Plant B\", lowBound=0, cat='Integer')\n",
    "days_C = LpVariable(\"Days Plant C\", lowBound=0, cat='Integer')\n",
    "\n",
    "# Define the objective function (minimize cost)\n",
    "model += 210 * days_A + 190 * days_B + 182 * days_C, \"Total Cost\"\n",
    "\n",
    "# Define the constraints (production requirements)\n",
    "model += 40 * days_A + 65 * days_B >= 1500, \"Golf Cart Production\"\n",
    "model += 35 * days_A + 53 * days_C >= 1100, \"Snowmobile Production\"\n",
    "\n",
    "# Solve the model\n",
    "model.solve()\n",
    "\n",
    "# Print the results\n",
    "print(\"Status:\", LpStatus[model.status])\n",
    "\n",
    "print(\"\\nOptimal Solution:\")\n",
    "print(\"Plant A:\", days_A.varValue, \"days\")\n",
    "print(\"Plant B:\", days_B.varValue, \"days\")\n",
    "print(\"Plant C:\", days_C.varValue, \"days\")\n",
    "\n",
    "print(\"\\nTotal Cost:\", value(model.objective), \"thousand dollars\")"
   ]
  },
  {
   "cell_type": "code",
   "execution_count": null,
   "metadata": {},
   "outputs": [],
   "source": []
  }
 ],
 "metadata": {
  "kernelspec": {
   "display_name": ".venv",
   "language": "python",
   "name": "python3"
  },
  "language_info": {
   "codemirror_mode": {
    "name": "ipython",
    "version": 3
   },
   "file_extension": ".py",
   "mimetype": "text/x-python",
   "name": "python",
   "nbconvert_exporter": "python",
   "pygments_lexer": "ipython3",
   "version": "3.10.8"
  }
 },
 "nbformat": 4,
 "nbformat_minor": 2
}
