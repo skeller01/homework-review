{
 "cells": [
  {
   "cell_type": "markdown",
   "metadata": {},
   "source": [
    "#### Chapter 5 Linear Programming & Chapter 6 Integer Programming"
   ]
  },
  {
   "cell_type": "markdown",
   "metadata": {},
   "source": [
    "5.38 Maximize: z= 5x1 + 3x2\n",
    "subject to: 2x1 + 3x2 <= 9 \n",
    "-4x1 + 2x2 <= 1 \n",
    "3x1 + x2 <= 6 \n",
    "x1 <= 3 \n",
    "\n",
    "With x1 and x2 nonnegative "
   ]
  },
  {
   "cell_type": "code",
   "execution_count": 2,
   "metadata": {},
   "outputs": [
    {
     "name": "stdout",
     "output_type": "stream",
     "text": [
      "Status: Optimal\n",
      "Optimal Solution:\n",
      "x1 = 1.29\n",
      "x2 = 2.14\n",
      "Maximum Value of z = 12.86\n"
     ]
    }
   ],
   "source": [
    "from pulp import *\n",
    "\n",
    "# Create a linear programming model\n",
    "model = LpProblem(\"Maximize Profit\", LpMaximize)\n",
    "\n",
    "# Define variables\n",
    "x1 = LpVariable(\"x1\", lowBound=0)\n",
    "x2 = LpVariable(\"x2\", lowBound=0)\n",
    "\n",
    "# Set objective function\n",
    "model += 5 * x1 + 3 * x2, \"Objective_Function\"\n",
    "\n",
    "# Add constraints\n",
    "model += 2 * x1 + 3 * x2 <= 9, \"Constraint 1\"\n",
    "model += -4 * x1 + 2 * x2 <= 1, \"Constraint 2\"\n",
    "model += 3 * x1 + x2 <= 6, \"Constraint 3\"\n",
    "model += x1 <= 3, \"Constraint 4\"\n",
    "\n",
    "# Solve the model\n",
    "model.solve()\n",
    "\n",
    "# Print the status and solution\n",
    "print(\"Status:\", LpStatus[model.status])\n",
    "print(\"Optimal Solution:\")\n",
    "print(f\"x1 = {x1.varValue:.2f}\")\n",
    "print(f\"x2 = {x2.varValue:.2f}\")\n",
    "print(f\"Maximum Value of z = {value(model.objective):.2f}\")"
   ]
  },
  {
   "cell_type": "markdown",
   "metadata": {},
   "source": [
    "6.12 minimize: z = 10x1 + 2x2 + 11x3\n",
    "subject to: 2x1 + 7x2 + x3 = 4 \n",
    "5x1 + 8x2 - 2x3 =17 \n",
    "with: all variables nonnegative and integral "
   ]
  },
  {
   "cell_type": "code",
   "execution_count": 4,
   "metadata": {},
   "outputs": [
    {
     "name": "stdout",
     "output_type": "stream",
     "text": [
      "Status: Infeasible\n",
      "Optimal Solution:\n",
      "x1 = 4.5789474\n",
      "x2 = -0.73684211\n",
      "x3 = 0.0\n",
      "Minimum Value of z = 44.315789779999996\n"
     ]
    }
   ],
   "source": [
    "from pulp import *\n",
    "\n",
    "# Create a linear programming model\n",
    "model = LpProblem(\"Minimize Cost\", LpMinimize)\n",
    "\n",
    "# Define variables as integers\n",
    "x1 = LpVariable(\"x1\", lowBound=0, cat='Integer')\n",
    "x2 = LpVariable(\"x2\", lowBound=0, cat='Integer')\n",
    "x3 = LpVariable(\"x3\", lowBound=0, cat='Integer')\n",
    "\n",
    "# Set objective function\n",
    "model += 10 * x1 + 2 * x2 + 11 * x3, \"Objective_Function\"\n",
    "\n",
    "# Add constraints\n",
    "model += 2 * x1 + 7 * x2 + x3 == 4, \"Constraint 1\"\n",
    "model += 5 * x1 + 8 * x2 - 2 * x3 == 17, \"Constraint 2\"\n",
    "\n",
    "# Solve the model\n",
    "model.solve()\n",
    "\n",
    "# Print the status and solution\n",
    "print(\"Status:\", LpStatus[model.status])\n",
    "print(\"Optimal Solution:\")\n",
    "print(f\"x1 = {x1.varValue}\")\n",
    "print(f\"x2 = {x2.varValue}\")\n",
    "print(f\"x3 = {x3.varValue}\")\n",
    "print(f\"Minimum Value of z = {value(model.objective)}\")"
   ]
  },
  {
   "cell_type": "markdown",
   "metadata": {},
   "source": [
    "6.9 maximize: z = x1 + 2x2 + x3 \n",
    "2x1 + 3x2 + 3x3 <= 11\n",
    "with: all variables nonnegative and integral "
   ]
  },
  {
   "cell_type": "code",
   "execution_count": 5,
   "metadata": {},
   "outputs": [
    {
     "name": "stdout",
     "output_type": "stream",
     "text": [
      "Status: Optimal\n",
      "Optimal Solution:\n",
      "x1 = 1.0\n",
      "x2 = 3.0\n",
      "x3 = 0.0\n",
      "Maximum Value of z = 7.0\n"
     ]
    }
   ],
   "source": [
    "from pulp import *\n",
    "\n",
    "# Create a linear programming model\n",
    "model = LpProblem(\"Maximize Profit\", LpMaximize)\n",
    "\n",
    "# Define variables as integers\n",
    "x1 = LpVariable(\"x1\", lowBound=0, cat='Integer')\n",
    "x2 = LpVariable(\"x2\", lowBound=0, cat='Integer')\n",
    "x3 = LpVariable(\"x3\", lowBound=0, cat='Integer')\n",
    "\n",
    "# Set objective function\n",
    "model += x1 + 2 * x2 + x3, \"Objective Function\"\n",
    "\n",
    "# Add constraint\n",
    "model += 2 * x1 + 3 * x2 + 3 * x3 <= 11, \"Constraint 1\"\n",
    "\n",
    "# Solve the model\n",
    "model.solve()\n",
    "\n",
    "# Print the status and solution\n",
    "print(\"Status:\", LpStatus[model.status])\n",
    "print(\"Optimal Solution:\")\n",
    "print(f\"x1 = {x1.varValue}\")\n",
    "print(f\"x2 = {x2.varValue}\")\n",
    "print(f\"x3 = {x3.varValue}\")\n",
    "print(f\"Maximum Value of z = {value(model.objective)}\")"
   ]
  }
 ],
 "metadata": {
  "kernelspec": {
   "display_name": ".venv",
   "language": "python",
   "name": "python3"
  },
  "language_info": {
   "codemirror_mode": {
    "name": "ipython",
    "version": 3
   },
   "file_extension": ".py",
   "mimetype": "text/x-python",
   "name": "python",
   "nbconvert_exporter": "python",
   "pygments_lexer": "ipython3",
   "version": "3.10.8"
  }
 },
 "nbformat": 4,
 "nbformat_minor": 2
}
