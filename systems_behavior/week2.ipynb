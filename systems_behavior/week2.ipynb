{
 "cells": [
  {
   "cell_type": "markdown",
   "metadata": {},
   "source": [
    "Week 2 \n",
    "\n",
    "Q1: An insurance company serves ten large customers. The insurance claim placed by each customer in a year is normally distributed with mean 200 and standard deviation 50. (Normal random variables can take negative values but this occurs with small probability when the standard deviation is small compared with the mean and we ignore this possibility) Assume that the insurance claims from different customers are independent. (a) compute the probability that the insurance claim placed by one customer in a year exceeds 250. (b) Compute the probability that the total insurance claim placed by all customers in a year exceeds 2500. "
   ]
  },
  {
   "cell_type": "code",
   "execution_count": 7,
   "metadata": {},
   "outputs": [
    {
     "data": {
      "text/plain": [
       "(0.15865525393145707, 0.0007827011290012509)"
      ]
     },
     "execution_count": 7,
     "metadata": {},
     "output_type": "execute_result"
    }
   ],
   "source": [
    "import numpy as np\n",
    "import scipy.stats as stats\n",
    "import logging\n",
    "\n",
    "logging.basicConfig(level=logging.ERROR, format='%(asctime)s - %(levelname)s - %(message)s')\n",
    "\n",
    "def calculate_probabilities(mean=200, std_dev=50, threshold=250, total_customers=10, total_threshold=2500):\n",
    "    \"\"\"\n",
    "    Calculate probabilities for insurance claims.\n",
    "\n",
    "    Parameters:\n",
    "    mean (float): Mean of the normal distribution for individual claims.\n",
    "    std_dev (float): Standard deviation of the normal distribution for individual claims.\n",
    "    threshold (float): Threshold for individual claims.\n",
    "    total_customers (int): Total number of customers.\n",
    "    total_threshold (float): Threshold for total claims from all customers.\n",
    "\n",
    "    Returns:\n",
    "    tuple: Probability for individual claim exceeding threshold and total claims exceeding total_threshold.\n",
    "    \"\"\"\n",
    "    try:\n",
    "        # Commonly used values\n",
    "        norm_dist = stats.norm(mean, std_dev)\n",
    "        total_mean = total_customers * mean\n",
    "        total_std_dev = np.sqrt(total_customers) * std_dev\n",
    "        total_norm_dist = stats.norm(total_mean, total_std_dev)\n",
    "        \n",
    "        # (a) Probability that one customer's claim exceeds the threshold\n",
    "        prob_individual = 1 - norm_dist.cdf(threshold)\n",
    "\n",
    "        # (b) Probability that total claims from all customers exceed the total_threshold\n",
    "        prob_total = 1 - total_norm_dist.cdf(total_threshold)\n",
    "\n",
    "        return prob_individual, prob_total\n",
    "    \n",
    "    except Exception as e:\n",
    "        logging.error(f\"An error occurred during calculation: {e}\")\n",
    "        return None\n",
    "\n",
    "# Example usage\n",
    "prob_a, prob_b = calculate_probabilities()\n",
    "prob_a, prob_b"
   ]
  },
  {
   "cell_type": "markdown",
   "metadata": {},
   "source": [
    "Q2: An insurance company serves ten large customers. The insurance claim placed by each customer in a year is uniform distributed between 0 and 100. Assume that the insurance claims from different customers are independent. Use the central limit theorem to approximately compute the probability that the total insurance claim placed by all customers in a year exceeds 625. "
   ]
  },
  {
   "cell_type": "code",
   "execution_count": 8,
   "metadata": {},
   "outputs": [
    {
     "data": {
      "text/plain": [
       "0.08545176011539879"
      ]
     },
     "execution_count": 8,
     "metadata": {},
     "output_type": "execute_result"
    }
   ],
   "source": [
    "import numpy as np\n",
    "import scipy.stats as stats\n",
    "import logging\n",
    "\n",
    "logging.basicConfig(level=logging.ERROR, format='%(asctime)s - %(levelname)s - %(message)s')\n",
    "\n",
    "def calculate_probability_uniform(a=0, b=100, total_customers=10, total_threshold=625):\n",
    "    \"\"\"\n",
    "    Calculate the probability that the total insurance claim from all customers exceeds a given threshold\n",
    "    using the central limit theorem for uniformly distributed claims.\n",
    "\n",
    "    Parameters:\n",
    "    a (float): Lower bound of the uniform distribution.\n",
    "    b (float): Upper bound of the uniform distribution.\n",
    "    total_customers (int): Total number of customers.\n",
    "    total_threshold (float): Threshold for total claims from all customers.\n",
    "\n",
    "    Returns:\n",
    "    float: Probability that the total claims exceed the total_threshold.\n",
    "    \"\"\"\n",
    "    try:\n",
    "        # Commonly used values\n",
    "        mean = (a + b) / 2\n",
    "        variance = ((b - a) ** 2) / 12\n",
    "        std_dev = np.sqrt(variance)\n",
    "        \n",
    "        total_mean = total_customers * mean\n",
    "        total_std_dev = np.sqrt(total_customers) * std_dev\n",
    "        total_norm_dist = stats.norm(total_mean, total_std_dev)\n",
    "        \n",
    "        # Calculate probability using normal approximation (CLT)\n",
    "        prob_total = 1 - total_norm_dist.cdf(total_threshold)\n",
    "\n",
    "        return prob_total\n",
    "    \n",
    "    except Exception as e:\n",
    "        logging.error(f\"An error occurred during calculation: {e}\")\n",
    "        return None\n",
    "\n",
    "# Example usage\n",
    "prob = calculate_probability_uniform()\n",
    "prob"
   ]
  },
  {
   "cell_type": "markdown",
   "metadata": {},
   "source": [
    "Q3: You are trying to determine how many (weekly) magazines to produce in any production run. It costs you 1.00 to print each magazine and you sell magazines for 2.50 each. if you don't sell all your magazines, then the excess must be disposed at a cost of .05 per magazine. Demand per week is D. Assume weekly demandeds are i.i.d. Let x be the number of magazines you decide to produce each week, and let f(x) be the resulting expected profit per week. (a) Build a pandas dataframe that computes, for any given value of x, an estimate of f(x) along with a 95% confidence interval based on demand per week, D. (b) use your pandas dataframe to obtain the approximately optimal value, x*, that maximizes f(x) and report (i) your estimasted confidence interval for f(x*). (c) Say your confidence interval from Part (b) is [a1, a2] for certain values a1 and a2. Is it true that the random profit next week will lie in the interval [a1,a2] with probability .95? Explain"
   ]
  },
  {
   "cell_type": "code",
   "execution_count": 9,
   "metadata": {},
   "outputs": [
    {
     "name": "stdout",
     "output_type": "stream",
     "text": [
      "Optimal Production Quantity (x): 105.0\n",
      "Optimal Expected Profit: 131.38\n",
      "95% Confidence Interval for Expected Profit: [129.36, 133.40]\n",
      "     95% CI Lower Bound\n",
      "143          102.154269\n"
     ]
    }
   ],
   "source": [
    "import numpy as np\n",
    "import pandas as pd\n",
    "import scipy.stats as stats\n",
    "import logging\n",
    "\n",
    "logging.basicConfig(level=logging.ERROR, format='%(asctime)s - %(levelname)s - %(message)s')\n",
    "\n",
    "def simulate_demand(weeks, mean_demand, std_dev_demand):\n",
    "    \"\"\"Simulate weekly demand over a specified number of weeks.\"\"\"\n",
    "    return np.random.normal(mean_demand, std_dev_demand, weeks)\n",
    "\n",
    "def calculate_profit(x, demand, sell_price=2.5, print_cost=1.0, disposal_cost=0.05):\n",
    "    \"\"\"Calculate the profit based on the number of magazines produced (x) and actual demand.\"\"\"\n",
    "    revenue = np.minimum(x, demand) * sell_price\n",
    "    production_cost = x * print_cost\n",
    "    disposal_cost_total = np.maximum(0, x - demand) * disposal_cost\n",
    "    profit = revenue - production_cost - disposal_cost_total\n",
    "    return profit\n",
    "\n",
    "def estimate_expected_profit(x, demands, sell_price=2.5, print_cost=1.0, disposal_cost=0.05):\n",
    "    \"\"\"Estimate the expected profit and its 95% confidence interval for a given production quantity (x).\"\"\"\n",
    "    profits = [calculate_profit(x, demand, sell_price, print_cost, disposal_cost) for demand in demands]\n",
    "    mean_profit = np.mean(profits)\n",
    "    std_dev_profit = np.std(profits)\n",
    "    if std_dev_profit == 0:\n",
    "        # Handle the case where standard deviation is zero\n",
    "        confidence_interval = (mean_profit, mean_profit)\n",
    "    else:\n",
    "        confidence_interval = stats.norm.interval(0.95, loc=mean_profit, scale=std_dev_profit/np.sqrt(len(profits)))\n",
    "    return mean_profit, confidence_interval\n",
    "\n",
    "def build_profit_dataframe(mean_demand, std_dev_demand, weeks=1000, max_x=200):\n",
    "    \"\"\"Build a dataframe that computes the expected profit and 95% confidence interval for different values of x.\"\"\"\n",
    "    try:\n",
    "        demands = simulate_demand(weeks, mean_demand, std_dev_demand)\n",
    "        data = {\n",
    "            'x': [],\n",
    "            'Expected Profit': [],\n",
    "            '95% CI Lower Bound': [],\n",
    "            '95% CI Upper Bound': []\n",
    "        }\n",
    "\n",
    "        for x in range(1, max_x + 1):\n",
    "            mean_profit, confidence_interval = estimate_expected_profit(x, demands)\n",
    "            data['x'].append(x)\n",
    "            data['Expected Profit'].append(mean_profit)\n",
    "            data['95% CI Lower Bound'].append(confidence_interval[0])\n",
    "            data['95% CI Upper Bound'].append(confidence_interval[1])\n",
    "\n",
    "        df = pd.DataFrame(data)\n",
    "        return df\n",
    "    \n",
    "    except Exception as e:\n",
    "        logging.error(f\"An error occurred during dataframe construction: {e}\")\n",
    "        return None\n",
    "\n",
    "def display_optimal_results(df):\n",
    "    \"\"\"Display the optimal production quantity and associated results.\"\"\"\n",
    "    optimal_row = df.loc[df['Expected Profit'].idxmax()]\n",
    "    optimal_x = optimal_row['x']\n",
    "    optimal_expected_profit = optimal_row['Expected Profit']\n",
    "    optimal_ci_lower = optimal_row['95% CI Lower Bound']\n",
    "    optimal_ci_upper = optimal_row['95% CI Upper Bound']\n",
    "    \n",
    "    print(f\"Optimal Production Quantity (x): {optimal_x}\")\n",
    "    print(f\"Optimal Expected Profit: {optimal_expected_profit:.2f}\")\n",
    "    print(f\"95% Confidence Interval for Expected Profit: [{optimal_ci_lower:.2f}, {optimal_ci_upper:.2f}]\")\n",
    "    return optimal_x, optimal_expected_profit, (optimal_ci_lower, optimal_ci_upper)\n",
    "\n",
    "def display_selected_results(df, row_start, row_end, col_start, col_end):\n",
    "    \"\"\"Display specific results from the dataframe based on user selection.\"\"\"\n",
    "    selected_rows = df.iloc[row_start:row_end, col_start:col_end]\n",
    "    print(selected_rows)\n",
    "    return selected_rows\n",
    "\n",
    "# Parameters\n",
    "mean_demand = 100\n",
    "std_dev_demand = 20\n",
    "weeks = 1000\n",
    "max_x = 200\n",
    "\n",
    "# Build dataframe\n",
    "profit_df = build_profit_dataframe(mean_demand, std_dev_demand, weeks, max_x)\n",
    "if profit_df is not None:\n",
    "    # Display the optimal results\n",
    "    optimal_results = display_optimal_results(profit_df)\n",
    "    \n",
    "    # Display specific selected results\n",
    "    selected_results = display_selected_results(profit_df, 143, 144, 2, 3)"
   ]
  },
  {
   "cell_type": "markdown",
   "metadata": {},
   "source": [
    "Problem Explanation\n",
    "\n",
    "Imagine you are running a business where you produce and sell magazines every week. You need to figure out how many magazines to produce to make the most profit.\n",
    "\n",
    "    Costs and Sales:\n",
    "        It costs you $1.00 to print each magazine.\n",
    "        You sell each magazine for $2.50.\n",
    "        If you print too many magazines and don't sell them all, you have to throw away the extra ones, which costs you $0.05 per magazine.\n",
    "\n",
    "    Weekly Demand:\n",
    "        The number of magazines people want to buy each week (demand) can change and is different every week.\n",
    "\n",
    "    Goal:\n",
    "        You need to decide how many magazines to produce each week (xx) to maximize your profit.\n",
    "        f(x)f(x) is the expected profit you will make based on the number of magazines you produce.\n",
    "\n",
    "Steps\n",
    "\n",
    "    Build a DataFrame:\n",
    "        Use a computer program to simulate different scenarios of magazine demand.\n",
    "        Calculate the profit for different numbers of magazines produced.\n",
    "        Estimate the profit and a confidence interval (range where we are 95% sure the true profit will be) for each number of magazines produced.\n",
    "\n",
    "    Find the Best Number:\n",
    "        Determine the number of magazines (xx) that gives you the highest expected profit.\n",
    "        Report the confidence interval for this profit.\n",
    "\n",
    "    Interpret the Confidence Interval:\n",
    "        Explain what the confidence interval means in terms of the expected profit and if it tells us anything about the actual profit we will get next week."
   ]
  }
 ],
 "metadata": {
  "kernelspec": {
   "display_name": ".venv",
   "language": "python",
   "name": "python3"
  },
  "language_info": {
   "codemirror_mode": {
    "name": "ipython",
    "version": 3
   },
   "file_extension": ".py",
   "mimetype": "text/x-python",
   "name": "python",
   "nbconvert_exporter": "python",
   "pygments_lexer": "ipython3",
   "version": "3.10.8"
  }
 },
 "nbformat": 4,
 "nbformat_minor": 2
}
