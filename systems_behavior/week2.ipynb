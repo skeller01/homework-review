{
 "cells": [
  {
   "cell_type": "markdown",
   "metadata": {},
   "source": [
    "Week 2 \n",
    "\n",
    "Q1: An insurance company serves ten large customers. The insurance claim placed by each customer in a year is normally distributed with mean 200 and standard deviation 50. (Normal random variables can take negative values but this occurs with small probability when the standard deviation is small compared with the mean and we ignore this possibility) Assume that the insurance claims from different customers are independent. (a) compute the probability that the insurance claim placed by one customer in a year exceeds 250. (b) Compute the probability that the total insurance claim placed by all customers in a year exceeds 2500. "
   ]
  },
  {
   "cell_type": "markdown",
   "metadata": {},
   "source": [
    "Q2: An insurance company serves ten large customers. The insurance claim placed by each customer in a year is uniform distributed between 0 and 100. Assume that the insurance claims from different customers are independent. Use the central limit theorem to approximately compute the probability that the total insurance claim placed by all customers in a year exceeds 625. "
   ]
  },
  {
   "cell_type": "markdown",
   "metadata": {},
   "source": [
    "Q3: You are trying to determine how many (weekly) magazines to produce in any production run. It costs you 1.00 to print each magazine and you sell magazines for 2.50 each. if you don't sell all your magazines, then the excess must be disposed at a cost of .05 per magazine. Demand per week is D. Assume weekly demandeds are i.i.d. Let x be the number of magazines you decide to produce each week, and let f(x) be the resulting expected profit per week. (a) Build a pandas dataframe that computes, for any given value of x, an estimate of f(x) along with a 95% confidence interval based on demand per week, D. (b) use your pandas dataframe to obtain the approximately optimal value, x*, that maximizes f(x) and report (i) your estimasted confidence interval for f(x*). (c) Say your confidence interval from Part (b) is [a1, a2] for certain values a1 and a2. Is it true that the random profit next week will lie in the interval [a1,a2] with probability .95? Explain"
   ]
  }
 ],
 "metadata": {
  "language_info": {
   "name": "python"
  }
 },
 "nbformat": 4,
 "nbformat_minor": 2
}
